{
 "cells": [
  {
   "cell_type": "code",
   "execution_count": 1,
   "id": "52fe5941",
   "metadata": {},
   "outputs": [
    {
     "name": "stderr",
     "output_type": "stream",
     "text": [
      "/home/tadesa1/anaconda3/envs/nlp_ml/lib/python3.9/site-packages/tqdm-4.67.1-py3.9.egg/tqdm/auto.py:21: TqdmWarning: IProgress not found. Please update jupyter and ipywidgets. See https://ipywidgets.readthedocs.io/en/stable/user_install.html\n",
      "  from .autonotebook import tqdm as notebook_tqdm\n"
     ]
    }
   ],
   "source": [
    "from datasets import load_dataset\n",
    "\n",
    "ds = load_dataset(\"qiaojin/PubMedQA\", \"pqa_labeled\")\n",
    "ds_art = load_dataset(\"qiaojin/PubMedQA\", \"pqa_artificial\")"
   ]
  },
  {
   "cell_type": "code",
   "execution_count": 2,
   "id": "3eee2345",
   "metadata": {},
   "outputs": [
    {
     "data": {
      "text/plain": [
       "1000"
      ]
     },
     "execution_count": 2,
     "metadata": {},
     "output_type": "execute_result"
    }
   ],
   "source": [
    "ds['train'].num_rows"
   ]
  },
  {
   "cell_type": "code",
   "execution_count": 3,
   "id": "cd7c68a7",
   "metadata": {},
   "outputs": [],
   "source": [
    "import random\n",
    "\n",
    "window_size = 2500\n",
    "lower_b = random.randint(0, ds_art['train'].num_rows - window_size)\n",
    "upper_b = lower_b + window_size\n",
    "\n",
    "pubmed_qa_list = []\n",
    "train_ds = ds['train']\n",
    "train_ds_art = ds_art['train']\n",
    "pubmed_qa_list = list(train_ds)\n",
    "pubmed_qa_list.extend(list(train_ds_art)[lower_b:upper_b])"
   ]
  },
  {
   "cell_type": "code",
   "execution_count": 4,
   "id": "95631666",
   "metadata": {},
   "outputs": [
    {
     "data": {
      "text/plain": [
       "3500"
      ]
     },
     "execution_count": 4,
     "metadata": {},
     "output_type": "execute_result"
    }
   ],
   "source": [
    "len(pubmed_qa_list)"
   ]
  },
  {
   "cell_type": "code",
   "execution_count": 5,
   "id": "b804a40b",
   "metadata": {},
   "outputs": [],
   "source": [
    "import os\n",
    "import json\n",
    "import glob\n",
    "\n",
    "def process_json_files(directory_path, output_file):\n",
    "    # Dictionary to store all samples\n",
    "    all_samples = {\n",
    "        \"samples\": []\n",
    "    }\n",
    "    \n",
    "    # Find all JSON files in the directory\n",
    "    json_files = glob.glob(os.path.join(directory_path, \"*.json\"))\n",
    "    \n",
    "    # Process each file\n",
    "    for file_path in json_files:\n",
    "        try:\n",
    "            with open(file_path, 'r', encoding='utf-8') as file:\n",
    "                data = json.load(file)\n",
    "                \n",
    "                # Check if the file has a \"samples\" key\n",
    "                if \"samples\" in data:\n",
    "                    # Add samples to our collection\n",
    "                    all_samples[\"samples\"].extend(data[\"samples\"])\n",
    "                    print(f\"Added {len(data['samples'])} samples from {file_path}\")\n",
    "                else:\n",
    "                    print(f\"Warning: No 'samples' key found in {file_path}\")\n",
    "        except Exception as e:\n",
    "            print(f\"Error processing {file_path}: {e}\")\n",
    "    \n",
    "    # Save all samples to the output file\n",
    "    with open(output_file, 'a', encoding='utf-8') as outfile:\n",
    "        json.dump(all_samples, outfile, indent=2, ensure_ascii=False)\n",
    "    \n",
    "    print(f\"Successfully saved {len(all_samples['samples'])} samples to {output_file}\")\n"
   ]
  },
  {
   "cell_type": "code",
   "execution_count": 6,
   "id": "7a6a3bd3",
   "metadata": {},
   "outputs": [
    {
     "name": "stdout",
     "output_type": "stream",
     "text": [
      "Added 91 samples from /home/tadesa1/research/ADBMO-UNLV/t5_super_finetune/data//criteria_4/combined_samples_20250429_233800.json\n",
      "Added 95 samples from /home/tadesa1/research/ADBMO-UNLV/t5_super_finetune/data//criteria_4/combined_samples_20250501_163140.json\n",
      "Added 90 samples from /home/tadesa1/research/ADBMO-UNLV/t5_super_finetune/data//criteria_4/combined_samples_20250501_163530.json\n",
      "Added 20 samples from /home/tadesa1/research/ADBMO-UNLV/t5_super_finetune/data//criteria_4/combined_samples_20250501_164031.json\n",
      "Successfully saved 296 samples to /home/tadesa1/research/ADBMO-UNLV/t5_super_finetune/data/synth_data_pcls_two.json\n",
      "--------------------------------\n",
      "Added 99 samples from /home/tadesa1/research/ADBMO-UNLV/t5_super_finetune/data//criteria_3/combined_samples_20250501_160538.json\n",
      "Added 108 samples from /home/tadesa1/research/ADBMO-UNLV/t5_super_finetune/data//criteria_3/combined_samples_20250501_155226.json\n",
      "Added 20 samples from /home/tadesa1/research/ADBMO-UNLV/t5_super_finetune/data//criteria_3/combined_samples_20250501_161424.json\n",
      "Added 126 samples from /home/tadesa1/research/ADBMO-UNLV/t5_super_finetune/data//criteria_3/combined_samples_20250429_233401.json\n",
      "Successfully saved 353 samples to /home/tadesa1/research/ADBMO-UNLV/t5_super_finetune/data/synth_data_pcls_two.json\n",
      "--------------------------------\n",
      "Added 95 samples from /home/tadesa1/research/ADBMO-UNLV/t5_super_finetune/data//criteria_5/combined_samples_20250501_171050.json\n",
      "Added 100 samples from /home/tadesa1/research/ADBMO-UNLV/t5_super_finetune/data//criteria_5/combined_samples_20250429_234157.json\n",
      "Successfully saved 195 samples to /home/tadesa1/research/ADBMO-UNLV/t5_super_finetune/data/synth_data_pcls_two.json\n",
      "--------------------------------\n",
      "Added 100 samples from /home/tadesa1/research/ADBMO-UNLV/t5_super_finetune/data//criteria1/combined_samples_20250501_132709.json\n",
      "Added 29 samples from /home/tadesa1/research/ADBMO-UNLV/t5_super_finetune/data//criteria1/combined_samples_20250501_133151.json\n",
      "Added 183 samples from /home/tadesa1/research/ADBMO-UNLV/t5_super_finetune/data//criteria1/combined_samples_20250501_131956.json\n",
      "Added 217 samples from /home/tadesa1/research/ADBMO-UNLV/t5_super_finetune/data//criteria1/combined_samples_20250429_231522.json\n",
      "Successfully saved 529 samples to /home/tadesa1/research/ADBMO-UNLV/t5_super_finetune/data/synth_data_pcls_two.json\n",
      "--------------------------------\n",
      "Added 115 samples from /home/tadesa1/research/ADBMO-UNLV/t5_super_finetune/data//criteria_2/combined_samples_20250501_134550.json\n",
      "Added 24 samples from /home/tadesa1/research/ADBMO-UNLV/t5_super_finetune/data//criteria_2/combined_samples_20250501_135249.json\n",
      "Added 149 samples from /home/tadesa1/research/ADBMO-UNLV/t5_super_finetune/data//criteria_2/combined_samples_20250429_232906.json\n",
      "Added 173 samples from /home/tadesa1/research/ADBMO-UNLV/t5_super_finetune/data//criteria_2/combined_samples_20250501_130942.json\n",
      "Successfully saved 461 samples to /home/tadesa1/research/ADBMO-UNLV/t5_super_finetune/data/synth_data_pcls_two.json\n",
      "--------------------------------\n"
     ]
    }
   ],
   "source": [
    "directory_path = \"/home/tadesa1/research/ADBMO-UNLV/t5_super_finetune/data/\"\n",
    "output_file = \"/home/tadesa1/research/ADBMO-UNLV/t5_super_finetune/data/synth_data_pcls_two.json\"\n",
    "\n",
    "for root, dir, files in os.walk(directory_path):\n",
    "    for directory in dir:\n",
    "        process_json_files(f\"{directory_path}/{directory}\", output_file)\n",
    "        # print(f\"Processed files in {directory}\")\n",
    "        print(\"--------------------------------\")\n",
    "    break\n"
   ]
  },
  {
   "cell_type": "code",
   "execution_count": 8,
   "id": "97e19464",
   "metadata": {},
   "outputs": [],
   "source": [
    "with open(\"/home/tadesa1/research/ADBMO-UNLV/t5_super_finetune/data/synth_data_pcls_two.json\", 'r', encoding='utf-8') as file:\n",
    "    synthetic_data = json.load(file)\n",
    "\n",
    "examples = []\n",
    "for sample in synthetic_data.get(\"samples\", []):\n",
    "    inp = sample[\"input\"]\n",
    "    out = sample[\"output\"]\n",
    "    examples.append((inp, out))"
   ]
  },
  {
   "cell_type": "code",
   "execution_count": 9,
   "id": "e417f83e",
   "metadata": {},
   "outputs": [
    {
     "data": {
      "text/plain": [
       "3668"
      ]
     },
     "execution_count": 9,
     "metadata": {},
     "output_type": "execute_result"
    }
   ],
   "source": [
    "len(examples)"
   ]
  },
  {
   "cell_type": "code",
   "execution_count": 10,
   "id": "28cde5fb",
   "metadata": {},
   "outputs": [
    {
     "name": "stdout",
     "output_type": "stream",
     "text": [
      "Programmed cell death (PCD) is the regulated death of cells within an organism. The lace plant (Aponogeton madagascariensis) produces perforations in its leaves through PCD. The leaves of the plant consist of a latticework of longitudinal and transverse veins enclosing areoles. PCD occurs in the cells at the center of these areoles and progresses outwards, stopping approximately five cells from the vasculature. The role of mitochondria during PCD has been recognized in animals; however, it has been less studied during PCD in plants.The following paper elucidates the role of mitochondrial dynamics during developmentally regulated PCD in vivo in A. madagascariensis. A single areole within a window stage leaf (PCD is occurring) was divided into three areas based on the progression of PCD; cells that will not undergo PCD (NPCD), cells in early stages of PCD (EPCD), and cells in late stages of PCD (LPCD). Window stage leaves were stained with the mitochondrial dye MitoTracker Red CMXRos and examined. Mitochondrial dynamics were delineated into four categories (M1-M4) based on characteristics including distribution, motility, and membrane potential (ΔΨm). A TUNEL assay showed fragmented nDNA in a gradient over these mitochondrial stages. Chloroplasts and transvacuolar strands were also examined using live cell imaging. The possible importance of mitochondrial permeability transition pore (PTP) formation during PCD was indirectly examined via in vivo cyclosporine A (CsA) treatment. This treatment resulted in lace plant leaves with a significantly lower number of perforations compared to controls, and that displayed mitochondrial dynamics similar to that of non-PCD cells.\n"
     ]
    }
   ],
   "source": [
    "for doc in pubmed_qa_list:\n",
    "    print(\"\".join(doc['context']['contexts']))\n",
    "    break"
   ]
  },
  {
   "cell_type": "code",
   "execution_count": null,
   "id": "88affba7",
   "metadata": {},
   "outputs": [],
   "source": [
    "for doc in pubmed_qa_list:\n",
    "    # build the instruction + context\n",
    "    context = \"\".join(doc['context']['contexts'])\n",
    "    inp = f\"Instruction: {doc['question']} Text: {context}\"\n",
    "    # yes/no answer plus the justification (long_answer)\n",
    "    ans = doc[\"final_decision\"].strip().lower()\n",
    "    just = doc.get(\"long_answer\", \"\").strip()\n",
    "    out = f\"Answer: {ans}. {just}\"\n",
    "    examples.append((inp, out))"
   ]
  },
  {
   "cell_type": "code",
   "execution_count": null,
   "id": "ec02fd5e",
   "metadata": {},
   "outputs": [
    {
     "data": {
      "text/plain": [
       "(\"Instruction: Is ambulatory high-dose methotrexate administration among pediatric osteosarcoma patients in an urban , underserved setting feasible , safe , and cost-effective? Text: We describe the safety, feasibility, and provide a cost-estimate of outpatient high-dose methotrexate administration (HDMTX) among an urban, underserved population.A retrospective analysis of ambulatory HDMTX administration among osteosarcoma patients, at Montefiore Medical Center's Children's Hospital (Bronx, NY) was performed. HDMTX (12 g/m(2)) was given intravenously (IV) over 4 hr after urine alkalinization. Patients were discharged home to continue IV hydration and alkalinization delivered via a home infusion pump. Families were instructed to monitor urine pH overnight and management was adjusted according to our institution's treatment algorithm until MTX level ≤ 0.1\\u2009µmol/L. A cost estimate was performed to assess the difference in costs for outpatient versus hypothetical inpatient administrations.Of the 97 ambulatory HDMTX administrations, 99% were successfully completed. One patient failed outpatient administration secondary to home infusion pump malfunction. This patient successfully completed subsequent courses as an outpatient. Most patients (72%) had a MTX level of < 10\\u2009µmol/L at 24 hr post-HDMTX. No patients were found to have a MTX level of > 50\\u2009µmol/L at 24 hr. About 26% of courses were associated with grade III or IV neutropenia, 4% were associated with grade III or IV thrombocytopenia and 1% were associated with grade III/IV leukopenia. Compared to a hypothetical hospital inpatient stay, the hospital costs for ambulatory HDMTX were an average of $1400 less per cycle.\",\n",
       " 'Answer: yes. Ambulatory HDMTX administration among an underserved, urban population is safe, feasible, and cost-effective.')"
      ]
     },
     "execution_count": 43,
     "metadata": {},
     "output_type": "execute_result"
    }
   ],
   "source": [
    "examples[5000]"
   ]
  },
  {
   "cell_type": "code",
   "execution_count": 11,
   "id": "663264dc",
   "metadata": {},
   "outputs": [
    {
     "name": "stdout",
     "output_type": "stream",
     "text": [
      "\u001b[1m===========================================\u001b[32mReceived PQA Dataset: 3500\u001b[0m===========================================\n"
     ]
    }
   ],
   "source": [
    "from transformers import T5TokenizerFast\n",
    "from torch.utils.data import DataLoader, DistributedSampler, random_split\n",
    "from dataset_utils import T5Dataset, DataCollatorForT5\n",
    "from datasets import load_dataset\n",
    "import json\n",
    "\n",
    "tokenizer = T5TokenizerFast.from_pretrained(\n",
    "    \"/home/tadesa1/research/ADBMO-UNLV/t5_lora_finetuning/t5_finetuned_best\")\n",
    "\n",
    "RED = \"\\033[31m\"\n",
    "GREEN = \"\\033[32m\"\n",
    "YELLOW = \"\\033[33m\"\n",
    "BLUE = \"\\033[34m\"\n",
    "BOLD = \"\\033[1m\"\n",
    "RESET = \"\\033[0m\"\n",
    "\n",
    "ds = load_dataset(\"qiaojin/PubMedQA\", \"pqa_labeled\")\n",
    "ds_art = load_dataset(\"qiaojin/PubMedQA\", \"pqa_artificial\")\n",
    "\n",
    "window_size = 2500\n",
    "lower_b = random.randint(0, ds_art['train'].num_rows - window_size)\n",
    "upper_b = lower_b + window_size\n",
    "\n",
    "pubmed_qa_data = []\n",
    "train_ds = ds['train']\n",
    "train_ds_art = ds_art['train']\n",
    "pubmed_qa_data = list(train_ds)\n",
    "pubmed_qa_data.extend(list(train_ds_art)[lower_b:upper_b])\n",
    "\n",
    "\n",
    "\n",
    "print(f\"{BOLD}==========================================={GREEN}Received PQA Dataset: {len(pubmed_qa_data)}{RESET}===========================================\")\n",
    "\n",
    "with open(\"/home/tadesa1/research/ADBMO-UNLV/t5_super_finetune/data/synth_data_pcls_two.json\", 'r', encoding='utf-8') as file:\n",
    "    synthetic_data = json.load(file)\n",
    "\n",
    "\n",
    "\n",
    "dataset = T5Dataset(\n",
    "    synthetic_data=synthetic_data,\n",
    "    pubmed_data=pubmed_qa_data,\n",
    "    tokenizer=tokenizer,\n",
    "    max_input_length=1024,\n",
    "    max_target_length=512\n",
    ")\n",
    "\n",
    "train_size = int(0.8 * len(dataset))\n",
    "val_size = len(dataset) - train_size\n",
    "train_dataset, val_dataset = random_split(dataset, [train_size, val_size])"
   ]
  },
  {
   "cell_type": "code",
   "execution_count": 19,
   "id": "ab7e830c",
   "metadata": {},
   "outputs": [],
   "source": [
    "random.seed(42)\n",
    "random.shuffle(dataset.examples)"
   ]
  },
  {
   "cell_type": "code",
   "execution_count": 21,
   "id": "0dcabcda",
   "metadata": {},
   "outputs": [
    {
     "name": "stdout",
     "output_type": "stream",
     "text": [
      "('Instruction: Does use of heparin versus lepirudin flush to prevent withdrawal occlusion of central venous access devices? Text: To determine whether lepirudin flushes are more effective than heparinized saline in preventing withdrawal occlusion of central venous access devices.Randomized, double-blind clinical trial.Research institution-tertiary referral center.Forty-nine adults undergoing bone marrow transplantation for hematologic malignancies or metastatic solid tumors.Twenty-four patients received heparin and 25 received lepirudin flushes. The heparin dose was 3 ml of porcine heparin 100 U/ml (300 U) per catheter lumen at least once/day; the lepirudin dose was 3 ml of lepirudin 100 microg/ml (300 microg) per catheter lumen at least once/day. After 3-4 weeks, all 49 patients received the heparin flushes.Efficacy was assessed by the frequency with which the patients were treated with alteplase instillations for withdrawal occlusion of their central venous access devices during the first 4 months of catheterization. Three (12.5%) patients treated with heparin alone and five (20%) treated initially with lepirudin required alteplase instillations for an estimated relative risk with lepirudin versus heparin of 1.6 (95% confidence interval [CI] 0.40-13.86, p=0.70).', 'Answer: yes. Lepirudin was not more effective than heparin, which may have been related to the conservative dose of lepirudin administered. However, higher lepirudin doses are likely to incur an unacceptable risk of systemic anticoagulation.')\n",
      "('Instruction: Is intraoperative conversion to on-pump coronary artery bypass grafting independently associated with higher mortality in patients undergoing off-pump coronary artery bypass grafting : A propensity-matched analysis? Text: One of the main limitations of off-pump coronary artery bypass grafting (OPCAB) is the occasional need for intraoperative conversion (IOC) to on-pump coronary artery bypass grafting. IOC is associated with a significantly increased risk of mortality and postoperative morbidity. The impact of IOC on outcome cannot be assessed by a randomized control design.The objective of this study was to analyze the incidence, risk factors, and impact of IOC on the outcome in patients undergoing OPCAB.Three tertiary care level hospitals; retrospective observational study.This retrospective observational study included 1971 consecutive patients undergoing\\u200a OPCAB from January 2012 to October 2015 at three tertiary care level hospitals by four surgeons. The incidence, patient characteristics, cause of IOC, and its impact on outcome were studied.The cohort was divided into two groups according to IOC. Univariate logistic regression was performed to describe the predictors of IOC. Variables that were found to be significant in univariate analysis were introduced into multivariate model, and adjusted odds ratio (OR) was calculated. To further assess the independent effect of IOC on mortality, propensity score matching with a 5:1 ratio of non-IOC to IOC was performed.The overall all-cause in-hospital mortality was 2.6%. IOC was needed in 128 (6.49%) patients. The mortality in the IOC group was significantly higher than non-IOC group (21 of 128 [16.4%] vs. 31 of 1843 [1.7%], P = 0.0001). The most common cause for IOC was hemodynamic disturbances during grafting to the obtuse marginal artery (51/128; 40%). On multivariate logistic regression analysis, left main disease, pulmonary hypertension, and mitral regurgitation independently predicted IOC. We obtained a propensity-matched sample of 692 patients (No IOC 570; IOC 122), and IOC had OR of 16.26 (confidence interval 6.3-41; P < 0.0001) for mortality in matched population.', 'Answer: yes. Emergency IOC increases odds for mortality by 16-fold. Hence, identification of patients at higher risk of IOC may improve the outcome.')\n",
      "('Instruction: Does cORM-2 inhibit TXNIP/NLRP3 inflammasome pathway in LPS-induced acute lung injury? Text: Accumulated studies suggest that exogenously administered carbon monoxide is beneficial for the resolution of acute lung inflammation. The present study aimed to examine the effects and the underlying mechanisms of CORM-2 on thioredoxin-interacting protein (TXNIP)/NLRP3 inflammasome pathway in lipopolysaccharide (LPS)-induced acute lung injury (ALI).ALI was intratracheally induced by LPS in C57BL6 mice. CORM-2 or iCORM-2 (30mg/kg i.p.) was administered immediately before LPS instillation. 6 h later, lung bronchoalveolar lavage (BAL) fluids were acquired for IL-18, IL-1β, and cell measurement, and lung issues were collected for histologic examination, wet/dry weight ratio, and determination of TXNIP/NLRP3 inflammasome expression, NLRP3 inflammasome and NF-ΚB activity, and reactive oxygen species (ROS) production.LPS triggered significant lung edema, lung injury, and leukocyte infiltration, and elevated the levels of IL-1β and IL-18 in lung BAL fluids. CORM-2 pretreatment resulted in a marked amelioration of lung injury and reduced IL-1β and IL-18 secretion in BAL fluids. In lung tissues; CORM-2 down-regulated mRNA and protein level of TXNIP, NLRP3, ASC, and caspase-1. Furthermore, CORM-2 reduced ROS production, inhibited NLRP3 inflammasome and NF-κB activity, and interaction of TXNIP-NLRP3. However, no significant differences were detected between the LPS and iCORM-2 (an inactive variant of CORM-2) group.', 'Answer: yes. CORM-2 suppresses TXNIP/NLRP3 inflammasome pathway and protects against LPS-induced lung injury.')\n",
      "('Instruction: Staging laparoscopy in patients with hepatocellular carcinoma: is it useful? Text: Staging laparoscopy (SL) is not regularly performed for patients with hepatocellular carcinoma (HCC). It may change treatment strategy, preventing unnecessary open exploration. An additional advantage of SL is possible biopsy of the nontumorous liver to assess fibrosis/cirrhosis. This study aimed to determine whether SL for patients with HCC still is useful.Patients with HCC who underwent SL between January 1999 and December 2011 were analyzed. Their demographics, preoperative imaging studies, surgical findings, and histology were assessed.The 56 patients (34 men and 22 women; mean age, 60 ± 14 years) in this study underwent SL for assessment of extensive disease or metastases. For two patients, SL was unsuccessful because of intraabdominal adhesions. For four patients (7.1 %), SL showed unresectability because of metastases (n = 1), tumor progression (n = 1), or severe cirrhosis in the contralateral lobe (n = 2). An additional five patients did not undergo laparotomy due to disease progression detected on imaging after SL. Exploratory laparotomy for the remaining 47 patients showed 6 (13 %) additional unresectable tumors due to advanced tumor (n = 5) or nodal metastases (n = 1). Consequently, the yield of SL was 7 % (95 % confidence interval (CI), 3-17 %), and the accuracy was 27 % (95 % CI, 11-52 %). A biopsy of the contralateral liver was performed for 45 patients who underwent SL, leading to changes in management for 4 patients (17 %) with cirrhosis.', 'Answer: no. The overall yield of SL for HCC was 7 %, and the accuracy was 27 %. When accurate imaging methods are available and additional percutaneous liver biopsy is implemented as a standard procedure in the preoperative workup of patients with HCC, the benefit of SL will become even less.')\n",
      "('Instruction: Is moderate cardiorespiratory fitness positively associated with resting metabolic rate in young adults? Text: To determine whether moderate cardiorespiratory fitness (CRF) or moderate to vigorous physical activity (MVPA) is associated with elevations in resting metabolic rate (RMR) similar to findings previously observed in endurance athletes.Using a cross-sectional design, we measured CRF, RMR, body composition, energy expenditure, and time in MVPA via an arm-based activity monitor in 423 young adults (mean age, 27.6 years). Based on the results of a fitness test, participants were classified into CRF tertiles (low, moderate, or high) by sex.There were significant differences among the low-, moderate-, and high-CRF groups for mean ± SD body mass index (calculated as the weight in kilograms divided by the height in meters squared) (28.1 ± 4.1, 25.1 ± 3.4, and 23.6 ± 2.5, respectively; P<.001) and fat mass (28.8 ± 9.7, 20.5 ± 8.2, and 14.8 ± 6.5 kg, respectively; P<.001) but not fat-free mass (53.1 ± 11.5, 53.5 ± 12.4, and 54.7 ± 12.1 kg, respectively; P=.49). There were no differences in mean ± SD unadjusted RMR among the groups (1533.2 ± 266.2, 1519.7 ± 267.6, and 1521.9 ± 253.9 kcal/d, respectively). However, after statistical adjustment for differences in body composition, the moderate- and high-CRF groups had a higher RMR compared with low-CRF individuals by 39.7 and 59.9 kcal/d, respectively (P<.05). After further adjustment for MVPA, RMR was higher in the high-CRF group compared with the low-CRF group by 51.2 kcal/d (P<.05).', 'Answer: yes. In this large sample of young adults representing a range of CRF, there was a positive stepwise gradient in RMR across tertiles of CRF independent of body composition. Also, MVPA was independently associated with RMR, although this relationship was modest. These findings underscore the multidimensional role of CRF and MVPA on health.')\n",
      "(\"Instruction: Do adipose mesenchymal stromal cells minimize and repair radiation-induced oral mucositis? Text: Mesenchymal stromal cells (MSCs) have been used to minimize and repair radiation-induced normal tissue injury in the intestine, salivary gland, liver, skin, lungs and cardiac muscle. This study investigated the ability of adipose tissue-derived MSCs (aMSCs) to minimize and/or repair single dose radiation-induced oral mucositis (RIOM).Syngenic phenotypically and functionally characterized BALB/c mouse aMSCs were implanted intraperitoneally in a RIOM mouse model with different dosing protocols. Response was quantified macroscopically, microscopically and by using different histological and clinically relevant parameters.Irradiation at 18 Gy generated a self-resolved single-dose RIOM BALB/c mouse model with 5.6\\u2009±\\u20090.3 days mean duration (95% confidence interval (CI) 4.233-7.1 days) and 100% survival rate. Intraperitoneal implantation of 5 doses of 2.5 million freshly cultured syngenic aMSCs significantly and reproducibly reduced RIOM ulcer duration to 1.6\\u2009±\\u20090.3 days (95% CI 0.0233-3.1 days, a 72% reduction in RIOM ulcer duration), ulcer size and ulcer floor epithelial height. The therapeutic benefits were significantly dependent on dose size and frequency, number of doses, and therapy onset time. aMSCs therapy significantly minimized the RIOM-related weight loss, accelerated the weight gain and improved irradiated animals' hydration and nutritional status. aMSCs therapy did not potentiate head and neck cancer in vitro.\", 'Answer: yes. Syngenic freshly cultured aMSCs significantly minimized and repaired radiation-induced oral mucositis with a 72% reduction in ulcer duration. aMSCs dose size and frequency, number of doses and therapy onset time are the main keys for optimized therapeutic outcome. aMSCs therapy did not stimulate Head and Neck cancer cell growth in-vitro.')\n",
      "('Instruction: Does the paper look at proteins as biomarkers (not genes, nor transcripts nor fragments)?\\n\\nText: Through the evaluation of tau protein concentrations in plasma, this study sought to establish correlations between protein levels and neurodegenerative disease stages. The use of specific antibodies to measure tau concentration highlights the reliance on protein assays as the core methodology. This approach was validated by comparison to existing protein biomarker studies.', 'Yes. The research is centered around tau proteins, using them explicitly as biomarkers.')\n",
      "(\"Instruction: Does glucocorticoid receptor antagonism by mifepristone alter phosphocreatine breakdown during sepsis? Text: To determine the role of glucocorticoids in the regulation of myocellular energetics induced by sepsis by means of the glucocorticoid receptor antagonist mifepristone (RU 38486).Randomized controlled study.University laboratories.Thirty-two adult male Wistar rats.Animals were randomly assigned to 1 of 4 groups. In 2 groups, mifepristone (10 mg/kg) was administered by gavage feeding 2 hours before cecal ligation and single 18-gauge needle puncture or sham operation. The other 2 groups of animals received placebo gavage feedings 2 hours before their surgical procedures. Twenty-four hours after operation, high-energy phosphate ratios, intracellular pH, the forward rate constant for the creatine kinase reaction, and phosphocreatine breakdown rates were measured in the gastrocnemius muscle by in vivo phosphorus 31 magnetic resonance spectroscopy. Tissue and blood samples were collected to measure creatine and adenosine 5'-triphosphate concentrations, Na(+)-K+ adenosine triphosphatase activity, and circulating corticosterone levels.Circulating corticosterone levels were twice as high in septic animals as in sham-operation control rats (P < .01). Phosphocreatine breakdown rates and Na(+)-K+ adenosine triphosphatase activity were significantly higher (40% and 75%, respectively; P < .01) in placebo-treated septic rats than in sham-operation control rats. However, phosphocreatine breakdown rates and Na(+)-K+ adenosine triphosphatase activity in mifepristone-treated septic animals were not significantly elevated above control levels.\", 'Answer: yes. Pretreatment with mifepristone reduces the demand for adenosine triphosphate production from phosphocreatine breakdown and downregulates Na(+)-K+ adenosine triphosphatase activity during sepsis.')\n",
      "('Instruction: Transgastric endoscopic splenectomy: is it possible? Text: We have previously reported the feasibility of diagnostic and therapeutic peritoneoscopy including liver biopsy, gastrojejunostomy, and tubal ligation by an oral transgastric approach. We present results of per-oral transgastric splenectomy in a porcine model. The goal of this study was to determine the technical feasibility of per-oral transgastric splenectomy using a flexible endoscope.We performed acute experiments on 50-kg pigs. All animals were fed liquids for 3 days prior to procedure. The procedures were performed under general anesthesia with endotracheal intubation. The flexible endoscope was passed per orally into the stomach and puncture of the gastric wall was performed with a needle knife. The puncture was extended to create a 1.5-cm incision using a pull-type sphincterotome, and a double-channel endoscope was advanced into the peritoneal cavity. The peritoneal cavity was insufflated with air through the endoscope. The spleen was visualized. The splenic vessels were ligated with endoscopic loops and clips, and then mesentery was dissected using electrocautery.Endoscopic splenectomy was performed on six pigs. There were no complications during gastric incision and entrance into the peritoneal cavity. Visualization of the spleen and other intraperitoneal organs was very good. Ligation of the splenic vessels and mobilization of the spleen were achieved using commercially available devices and endoscopic accessories.', 'Answer: yes. Transgastric endoscopic splenectomy in a porcine model appears technically feasible. Additional long-term survival experiments are planned.')\n",
      "('Instruction: Is tumor 18F-FDG incorporation enhanced by attenuation of P53 function in breast cancer cells in vitro? Text: Mutations in the p53 gene, often resulting in loss of wild-type (WT) p53 expression, are found at high frequencies in several cancer types. High uptake of (18)F-FDG detected using (18)F-FDG PET has been associated with a poor prognosis. To determine whether high (18)F-FDG uptake may be related to decreased expression of WT p53, we examined (18)F-FDG uptake in cells transfected with dominant negative p53 constructs that abrogate WT p53 function.Two clones of MCF-7 breast cancer cells were stably transfected with a dominant negative p53 construct. (18)F-FDG uptake, hexokinase (HK) activity, and glucose transport were measured in each clone and in the control WT cells from which the clones had been derived. The expression of glucose transporters, HKs, and glucose-6-phosphatase was determined using microarray technology.Microarray experiments revealed that glucose transporters 1, 8, and 10 were expressed in MCF-7 cells, whereas glucose-6-phosphatase was absent. HK I was the principal HK in MCF-7 cells but was not differentially expressed at the messenger RNA level in the dominant negative p53 clones, compared with WT cells. However, increased HK activity was observed in both dominant negative p53 clones, compared with WT MCF-7. (18)F-FDG uptake was increased in both clones expressing the dominant negative p53 constructs.', 'Answer: yes. These data suggest that abrogation of p53 in breast cancer is associated with specific changes in glucose metabolism detected by PET.')\n",
      "(\"Instruction: Are thiobarbituric acid reactive substances increased in the subcutaneous fat tissue of patients with end-stage renal disease? Text: Patients with end-stage renal disease are thought to be in a highly peroxidative state, based on studies showing decreased serum antioxidant activity and increased peroxidative products. In this study we confirm these findings by examining lipid peroxidation in subcutaneous fat tissue in uraemia.Twenty-seven subcutaneous fat samples were taken from patients with end-stage renal disease when they underwent intervention for arteriovenous fistula for haemodialyis or for catheter insertion for continuous ambulatory peritoneal dialysis. The control samples were taken from 11 patients with normal renal function and without any history of renal disease who had surgical interventions. Lipid peroxides were measured as thiobarbituric acid reactive substance.The concentration of thiobarbituric acid reactive substances in subcutaneous fat tissue in the patients with end-stage renal disease is 1.223 +/- 0.636 nmol/mg fat tissue (mean +/- SD) whereas the level in the control group is 0.097 +/- 0.054 nmol/mg fat tissue. A comparison of the two groups by Student's t test revealed a highly significant difference (P < 0.001).\", 'Answer: yes. This study supports the finding of a severe peroxidative state in patients with end-stage renal disease.')\n",
      "('Instruction: Is the paper an original research article?\\n\\nText: This commentary critically examines the recent policy changes in national healthcare regulations, offering insights into their potential implications but not engaging in empirical data collection or analysis.', 'No. The paper is a commentary, which suggests it is an opinion piece rather than a study reporting new original research findings.')\n"
     ]
    }
   ],
   "source": [
    "i = 0\n",
    "for example in dataset.examples:\n",
    "    print(example)\n",
    "    if i > 10:\n",
    "        break\n",
    "    i += 1"
   ]
  },
  {
   "cell_type": "code",
   "execution_count": 13,
   "id": "0703209d",
   "metadata": {},
   "outputs": [
    {
     "name": "stdout",
     "output_type": "stream",
     "text": [
      "5734\n",
      "1434\n"
     ]
    }
   ],
   "source": [
    "print(len(train_dataset))\n",
    "print(len(val_dataset))"
   ]
  },
  {
   "cell_type": "code",
   "execution_count": 49,
   "id": "82b560ec",
   "metadata": {},
   "outputs": [
    {
     "name": "stdout",
     "output_type": "stream",
     "text": [
      "Sample inputs: ['Instruction: Are single nucleotide polymorphisms in AGTR1 , TFAP2B , and TRAF1 associated with the incidence of patent ductus arteriosus in Japanese preterm infants? Text: Persistent patent ductus arteriosus (PDA) is a frequent complication in preterm infants. Single nucleotide polymorphisms (SNP) in several genes, including angiotensin II receptor, type 1 (AGTR1), transcription factor AP-2 beta (TFAP2B) and tumor necrosis factor receptor-associated factor 1 (TRAF1), have been reported to be associated with PDA in preterm infants. The aim of this study was to evaluate the relationships between PDA in preterm infants and polymorphisms in AGTR1, TFAP2B and TRAF1 in the Japanese population.The subjects consisted of 107 preterm infants with gestational age 32 weeks. Extremely low-birthweight infants were treated with prophylactic indomethacin during the first 24 h after birth. Five SNP, namely, rs5186 in AGTR1, rs987237 and rs6930924 in TFAP2B, and rs1056567 and rs10985070 in TRAF1, were genotyped using TaqMan SNP genotyping assays.There were no significant differences in the distributions of the genotypes and allele frequencies of all studied SNP between the PDA group (n = 46) and the non-PDA group (n = 61).', 'Instruction: Is quercetin bioavailability associated with inadequate plasma vitamin C status and greater plasma endotoxin in adults? Text: Quercetin bioavailability exhibits high interindividual variation for reasons that remain unclear. We conducted a 24-h pharmacokinetic study to investigate whether individual differences in circulating antioxidants, oxidative stress and inflammation, and intestinal permeability affect quercetin bioavailability.Healthy adults (n = 9 M/7 F; 34.3  4.5 y; 27.0  1.7 kg/m(2)) ingested 1095 mg quercetin aglycone with a standardized meal. Plasma antioxidants, biomarkers of oxidative stress and inflammation, and endotoxin were measured at baseline (0 h), and quercetin and its methylated metabolites isorhamnetin and tamarixetin were measured at timed intervals for 24 h.Plasma pharmacokinetics of quercetin, isorhamnetin and tamarixetin were highly variable between participants (CVinter = 37-96%). Plasma vitamin C concentrations (34.6  2.5 mol/L), but no other antioxidants, were inversely correlated to the Cmax and AUC0 to 24 h of total quercetin (Qtotal; sum of quercetin, isorhamnetin and tamarixetin; r = -0.52 to -0.53; P  0.05). Plasma endotoxin (0.13  0.01 EU/mL), a surrogate marker of intestinal permeability, was correlated to Qtotal Cmax (r = 0.45; P  0.05) and tended to be correlated to Qtotal AUC0 to 24 h (r = 0.38; P = 0.07). Additionally, vitamin C was inversely related to C-reactive protein, myeloperoxidase, and endotoxin (r = -0.46 to -0.55; P  0.05), whereas endotoxin was positively correlated to C-reactive protein (r = 0.73; P  0.05).', 'Instruction: Does hyperglycemia after infant cardiac surgery adversely impact neurodevelopmental outcome? Text: Hyperglycemia has been associated with worse outcome after traumatic brain injury and cardiac surgery in adults. It is not known whether postoperative hyperglycemia results in worse neurodevelopmental outcome after infant cardiac surgery.Secondary analysis of postoperative glucose levels was performed in infants younger than 6 months of age enrolled in a prospective study of genetic polymorphisms and neurodevelopmental outcomes who were undergoing repair of two-ventricle cardiac defects. Neurodevelopmental outcomes at 1 year of age were assessed with the Bayley Scales of Infant Development-II, yielding two indices: Mental Developmental Index and Psychomotor Developmental Index.Surgical repair was performed in 247 infants with 1 in-hospital and 3 late deaths. Neurodevelopmental evaluation was performed in 188 of 243 (77%) survivors. Glucose levels at cardiac intensive care unit admission and during the first 48 postoperative hours were available for 180 of 188 patients. Mean admission glucose was 328 +/- 106 mg/dL; maximum glucose was 340 +/- 109 mg/dL. At least one glucose was greater than 200 mg/dL in 160 of 180 patients, and 49 of 180 patients (27%) had a glucose greater than 400 mg/dL. Only 1 patient had a glucose less than 50 mg/dL. Female sex (p = 0.02), but no other patient or operative variable, was associated with higher glucose levels. Mean Mental Developmental Index and Psychomotor Developmental Index were 90.6 +/- 14.9 and 81.6 +/- 17.2, respectively. Hyperglycemia was not associated with lower Mental Developmental Index and Psychomotor Developmental Index scores for the entire cohort or for neonates alone.', 'Instruction: Does [ The administration of factor VIII concentrate to hemophiliacs by continuous perfusion pump ]? Text: The administration of factor VIII (FVIII) in continuous infusion (CI) to hemophiliac inpatients is a therapeutic approach made possible by the development of new commercial preparations.In the present study the outcome of 14 treatment courses of FVIII in CI to 12 patients with hemophilia A (2 of them with inhibitor) was evaluated. A computer program developed by the authors is presented. This program is simple and can be executed in any compatible personal computer, permitting the calculation of initial and maintenance doses and individual pharmacokinetic parameters.The hemostatic result was excellent: constant FVIII plasma levels were achieved, and unnecessary overdoses were prevented. Mean infusion rates of 1.99 +/- 0.45 IU/kg/h, 1.47 +/- 0.28 IU/kg/h, and 0.86 +/- 0.12 IU/kg/h were enough to maintain FVIII plasma levels of 1 IU/ml, 0.3 IU/ml, and 0.3 IU/ml, respectively. This represents a saving of 20-50% of the requirements of the traditional intermittent method.']\n"
     ]
    }
   ],
   "source": [
    "loader = DataLoader(\n",
    "  train_dataset,\n",
    "  batch_size=4,\n",
    "  shuffle=True,\n",
    "  collate_fn=DataCollatorForT5(tokenizer),\n",
    ")\n",
    "batch = next(iter(loader))\n",
    "decoded = tokenizer.batch_decode(batch[\"input_ids\"], skip_special_tokens=True)\n",
    "print(\"Sample inputs:\", decoded[:1200])"
   ]
  }
 ],
 "metadata": {
  "kernelspec": {
   "display_name": "nlp_ml",
   "language": "python",
   "name": "python3"
  },
  "language_info": {
   "codemirror_mode": {
    "name": "ipython",
    "version": 3
   },
   "file_extension": ".py",
   "mimetype": "text/x-python",
   "name": "python",
   "nbconvert_exporter": "python",
   "pygments_lexer": "ipython3",
   "version": "3.9.19"
  }
 },
 "nbformat": 4,
 "nbformat_minor": 5
}
